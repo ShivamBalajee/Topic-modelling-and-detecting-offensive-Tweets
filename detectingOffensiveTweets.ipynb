{
 "cells": [
  {
   "cell_type": "code",
   "execution_count": 3,
   "id": "35d46a09",
   "metadata": {},
   "outputs": [
    {
     "name": "stdout",
     "output_type": "stream",
     "text": [
      "   polarity                                              tweet\n",
      "0         0  !!! rt @mayasolovely: as a woman you shouldn't...\n",
      "1         1  !!!!! rt @mleew17: boy dats cold...tyga dwn ba...\n",
      "2         1  !!!!!!! rt @urkindofbrand dawg!!!! rt @80sbaby...\n",
      "3         0  !!!!!!!!! rt @c_g_anderson: @viva_based she lo...\n",
      "4         1  !!!!!!!!!!!!! rt @shenikaroberts: the shit you...\n"
     ]
    }
   ],
   "source": [
    "import sklearn\n",
    "import pandas as pd\n",
    "import re\n",
    "import string\n",
    "from collections import Counter\n",
    "from sklearn.model_selection import train_test_split\n",
    "import joblib\n",
    "from sklearn.feature_extraction.text import CountVectorizer\n",
    "from sklearn.feature_extraction.text import TfidfVectorizer\n",
    "\n",
    "data = pd.read_csv ('C:/Users/Shivam/Twitter/labeled_data.csv')\n",
    "\n",
    "#to convert all the words to lower case and to strip them of white spaces and removing punctuations\n",
    "def preprocess_data(data):\n",
    "    data['tweet'] = data['tweet'].str.strip().str.lower()\n",
    "    data['tweet'].map(lambda x: re.sub('[,.!?]', '', x))\n",
    "    return data\n",
    "data=preprocess_data(data)\n",
    "\n",
    "#print(data.head())\n"
   ]
  },
  {
   "cell_type": "code",
   "execution_count": 8,
   "id": "1674d612",
   "metadata": {},
   "outputs": [
    {
     "name": "stdout",
     "output_type": "stream",
     "text": [
      "(19826, 1000)\n",
      "0.7690135162396611\n"
     ]
    }
   ],
   "source": [
    "x = data['tweet']\n",
    "y = data['polarity']\n",
    "x, x_test, y, y_test = train_test_split(x,y, stratify=y, test_size=0.20, random_state=42)\n",
    "\n",
    "# Vectorize text reviews to numbers\n",
    "vec = CountVectorizer(ngram_range=[1,3], max_features=1000)\n",
    "#vec = TfidfVectorizer(ngram_range=[1,3], max_features=1000)\n",
    "x = vec.fit_transform(x).toarray()\n",
    "#print(x.shape)\n",
    "x_test = vec.transform(x_test).toarray()\n",
    "\n",
    "from sklearn.naive_bayes import MultinomialNB\n",
    "model = MultinomialNB()\n",
    "model.fit(x, y)\n",
    "y_pred = model.predict(x_test)\n",
    "print((y_pred == y_test).sum() / y_pred.reshape(-1).shape[0])\n",
    "# 76.8  tfid\n",
    "# 76.9  Count Vectorizer"
   ]
  },
  {
   "cell_type": "code",
   "execution_count": 5,
   "id": "cb97dde5",
   "metadata": {},
   "outputs": [],
   "source": [
    "def preprocess_data2(data):\n",
    "    data['content'] = data['content'].str.strip().str.lower()\n",
    "    data['content'].map(lambda x: re.sub('[,.!?]', '', x))\n",
    "    return data\n",
    "\n",
    "data_text = pd.read_csv ('C:/Users/Shivam/Twitter/text-query-tweets.csv')\n",
    "data_text = preprocess_data2(data_text)\n",
    "X_Test = data_text['content']\n",
    "X_Test = vec.transform(X_Test).toarray()\n",
    "Y_Test = model.predict(X_Test)"
   ]
  },
  {
   "cell_type": "code",
   "execution_count": 6,
   "id": "61802d8c",
   "metadata": {},
   "outputs": [],
   "source": [
    "#writing the prediction for batman movie tweets into output csv\n",
    "csv_input = pd.read_csv('C:/Users/Shivam/Twitter/text-query-tweets.csv')\n",
    "csv_input['Prediction'] = Y_Test\n",
    "csv_input.to_csv('output.csv', index=False)"
   ]
  },
  {
   "cell_type": "code",
   "execution_count": null,
   "id": "370304ae",
   "metadata": {},
   "outputs": [],
   "source": []
  }
 ],
 "metadata": {
  "kernelspec": {
   "display_name": "Python 3 (ipykernel)",
   "language": "python",
   "name": "python3"
  },
  "language_info": {
   "codemirror_mode": {
    "name": "ipython",
    "version": 3
   },
   "file_extension": ".py",
   "mimetype": "text/x-python",
   "name": "python",
   "nbconvert_exporter": "python",
   "pygments_lexer": "ipython3",
   "version": "3.9.7"
  }
 },
 "nbformat": 4,
 "nbformat_minor": 5
}
